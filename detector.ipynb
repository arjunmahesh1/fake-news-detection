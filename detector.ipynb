{
 "cells": [
  {
   "cell_type": "markdown",
   "metadata": {},
   "source": [
    "## Imports, Read Data"
   ]
  },
  {
   "cell_type": "code",
   "execution_count": 11,
   "metadata": {},
   "outputs": [
    {
     "data": {
      "text/html": [
       "<div>\n",
       "<style scoped>\n",
       "    .dataframe tbody tr th:only-of-type {\n",
       "        vertical-align: middle;\n",
       "    }\n",
       "\n",
       "    .dataframe tbody tr th {\n",
       "        vertical-align: top;\n",
       "    }\n",
       "\n",
       "    .dataframe thead th {\n",
       "        text-align: right;\n",
       "    }\n",
       "</style>\n",
       "<table border=\"1\" class=\"dataframe\">\n",
       "  <thead>\n",
       "    <tr style=\"text-align: right;\">\n",
       "      <th></th>\n",
       "      <th>Unnamed: 0</th>\n",
       "      <th>title</th>\n",
       "      <th>text</th>\n",
       "      <th>label</th>\n",
       "    </tr>\n",
       "  </thead>\n",
       "  <tbody>\n",
       "    <tr>\n",
       "      <th>0</th>\n",
       "      <td>8476</td>\n",
       "      <td>You Can Smell Hillary’s Fear</td>\n",
       "      <td>Daniel Greenfield, a Shillman Journalism Fello...</td>\n",
       "      <td>FAKE</td>\n",
       "    </tr>\n",
       "    <tr>\n",
       "      <th>1</th>\n",
       "      <td>10294</td>\n",
       "      <td>Watch The Exact Moment Paul Ryan Committed Pol...</td>\n",
       "      <td>Google Pinterest Digg Linkedin Reddit Stumbleu...</td>\n",
       "      <td>FAKE</td>\n",
       "    </tr>\n",
       "    <tr>\n",
       "      <th>2</th>\n",
       "      <td>3608</td>\n",
       "      <td>Kerry to go to Paris in gesture of sympathy</td>\n",
       "      <td>U.S. Secretary of State John F. Kerry said Mon...</td>\n",
       "      <td>REAL</td>\n",
       "    </tr>\n",
       "    <tr>\n",
       "      <th>3</th>\n",
       "      <td>10142</td>\n",
       "      <td>Bernie supporters on Twitter erupt in anger ag...</td>\n",
       "      <td>— Kaydee King (@KaydeeKing) November 9, 2016 T...</td>\n",
       "      <td>FAKE</td>\n",
       "    </tr>\n",
       "    <tr>\n",
       "      <th>4</th>\n",
       "      <td>875</td>\n",
       "      <td>The Battle of New York: Why This Primary Matters</td>\n",
       "      <td>It's primary day in New York and front-runners...</td>\n",
       "      <td>REAL</td>\n",
       "    </tr>\n",
       "  </tbody>\n",
       "</table>\n",
       "</div>"
      ],
      "text/plain": [
       "   Unnamed: 0                                              title  \\\n",
       "0        8476                       You Can Smell Hillary’s Fear   \n",
       "1       10294  Watch The Exact Moment Paul Ryan Committed Pol...   \n",
       "2        3608        Kerry to go to Paris in gesture of sympathy   \n",
       "3       10142  Bernie supporters on Twitter erupt in anger ag...   \n",
       "4         875   The Battle of New York: Why This Primary Matters   \n",
       "\n",
       "                                                text label  \n",
       "0  Daniel Greenfield, a Shillman Journalism Fello...  FAKE  \n",
       "1  Google Pinterest Digg Linkedin Reddit Stumbleu...  FAKE  \n",
       "2  U.S. Secretary of State John F. Kerry said Mon...  REAL  \n",
       "3  — Kaydee King (@KaydeeKing) November 9, 2016 T...  FAKE  \n",
       "4  It's primary day in New York and front-runners...  REAL  "
      ]
     },
     "execution_count": 11,
     "metadata": {},
     "output_type": "execute_result"
    }
   ],
   "source": [
    "import numpy as np\n",
    "import pandas as pd\n",
    "import json\n",
    "import csv\n",
    "import random\n",
    "from tensorflow.keras.preprocessing.text import Tokenizer \n",
    "from tensorflow.keras.preprocessing.sequence import pad_sequences \n",
    "from tensorflow.keras.utils import to_categorical \n",
    "from tensorflow.keras import regularizers \n",
    "import pprint \n",
    "import tensorflow.compat.v1 as tf \n",
    "from tensorflow.python.framework import ops \n",
    "from sklearn.model_selection import train_test_split \n",
    "from sklearn import preprocessing \n",
    "tf.disable_eager_execution()\n",
    "\n",
    "data = pd.read_csv(\"news.csv\") \n",
    "data.head() "
   ]
  },
  {
   "cell_type": "markdown",
   "metadata": {},
   "source": [
    "## Preprocessing Data"
   ]
  },
  {
   "cell_type": "code",
   "execution_count": 12,
   "metadata": {},
   "outputs": [
    {
     "data": {
      "text/html": [
       "<div>\n",
       "<style scoped>\n",
       "    .dataframe tbody tr th:only-of-type {\n",
       "        vertical-align: middle;\n",
       "    }\n",
       "\n",
       "    .dataframe tbody tr th {\n",
       "        vertical-align: top;\n",
       "    }\n",
       "\n",
       "    .dataframe thead th {\n",
       "        text-align: right;\n",
       "    }\n",
       "</style>\n",
       "<table border=\"1\" class=\"dataframe\">\n",
       "  <thead>\n",
       "    <tr style=\"text-align: right;\">\n",
       "      <th></th>\n",
       "      <th>title</th>\n",
       "      <th>text</th>\n",
       "      <th>label</th>\n",
       "    </tr>\n",
       "  </thead>\n",
       "  <tbody>\n",
       "    <tr>\n",
       "      <th>0</th>\n",
       "      <td>You Can Smell Hillary’s Fear</td>\n",
       "      <td>Daniel Greenfield, a Shillman Journalism Fello...</td>\n",
       "      <td>FAKE</td>\n",
       "    </tr>\n",
       "    <tr>\n",
       "      <th>1</th>\n",
       "      <td>Watch The Exact Moment Paul Ryan Committed Pol...</td>\n",
       "      <td>Google Pinterest Digg Linkedin Reddit Stumbleu...</td>\n",
       "      <td>FAKE</td>\n",
       "    </tr>\n",
       "    <tr>\n",
       "      <th>2</th>\n",
       "      <td>Kerry to go to Paris in gesture of sympathy</td>\n",
       "      <td>U.S. Secretary of State John F. Kerry said Mon...</td>\n",
       "      <td>REAL</td>\n",
       "    </tr>\n",
       "    <tr>\n",
       "      <th>3</th>\n",
       "      <td>Bernie supporters on Twitter erupt in anger ag...</td>\n",
       "      <td>— Kaydee King (@KaydeeKing) November 9, 2016 T...</td>\n",
       "      <td>FAKE</td>\n",
       "    </tr>\n",
       "    <tr>\n",
       "      <th>4</th>\n",
       "      <td>The Battle of New York: Why This Primary Matters</td>\n",
       "      <td>It's primary day in New York and front-runners...</td>\n",
       "      <td>REAL</td>\n",
       "    </tr>\n",
       "  </tbody>\n",
       "</table>\n",
       "</div>"
      ],
      "text/plain": [
       "                                               title  \\\n",
       "0                       You Can Smell Hillary’s Fear   \n",
       "1  Watch The Exact Moment Paul Ryan Committed Pol...   \n",
       "2        Kerry to go to Paris in gesture of sympathy   \n",
       "3  Bernie supporters on Twitter erupt in anger ag...   \n",
       "4   The Battle of New York: Why This Primary Matters   \n",
       "\n",
       "                                                text label  \n",
       "0  Daniel Greenfield, a Shillman Journalism Fello...  FAKE  \n",
       "1  Google Pinterest Digg Linkedin Reddit Stumbleu...  FAKE  \n",
       "2  U.S. Secretary of State John F. Kerry said Mon...  REAL  \n",
       "3  — Kaydee King (@KaydeeKing) November 9, 2016 T...  FAKE  \n",
       "4  It's primary day in New York and front-runners...  REAL  "
      ]
     },
     "execution_count": 12,
     "metadata": {},
     "output_type": "execute_result"
    }
   ],
   "source": [
    "data = data.drop([\"Unnamed: 0\"], axis=1)\n",
    "data.head(5)"
   ]
  },
  {
   "cell_type": "markdown",
   "metadata": {},
   "source": [
    "## Data Encoding"
   ]
  },
  {
   "cell_type": "code",
   "execution_count": 13,
   "metadata": {},
   "outputs": [],
   "source": [
    "# Converting categorical column into numerical values\n",
    "le = preprocessing.LabelEncoder()\n",
    "le.fit(data['label'])\n",
    "data['label'] = le.transform(data['label'])\n",
    "\n",
    "# Variables\n",
    "embedding_dim = 50\n",
    "max_length = 54\n",
    "trunc_type = 'post'\n",
    "padding_type = 'post'\n",
    "oov_tok = \"<OOV>\"\n",
    "training_size = 3000\n",
    "test_portion = .1"
   ]
  },
  {
   "cell_type": "markdown",
   "metadata": {},
   "source": [
    "## Tokenization"
   ]
  },
  {
   "cell_type": "code",
   "execution_count": 14,
   "metadata": {},
   "outputs": [],
   "source": [
    "# Dividing large piece of continuous text into tokens\n",
    "title = []\n",
    "text = []\n",
    "labels = []\n",
    "for x in range(training_size):\n",
    "    title.append(data['title'][x])\n",
    "    text.append(data['text'][x])\n",
    "    labels.append(data['label'][x])\n",
    "\n",
    "# Applying tokenization\n",
    "tokenizer1 = Tokenizer() \n",
    "tokenizer1.fit_on_texts(title) \n",
    "word_index1 = tokenizer1.word_index \n",
    "vocab_size1 = len(word_index1) \n",
    "sequences1 = tokenizer1.texts_to_sequences(title) \n",
    "padded1 = pad_sequences(sequences1,  padding=padding_type, truncating=trunc_type) \n",
    "split = int(test_portion * training_size) \n",
    "training_sequences1 = padded1[split:training_size] \n",
    "test_sequences1 = padded1[0:split] \n",
    "test_labels = labels[0:split] \n",
    "training_labels = labels[split:training_size] "
   ]
  },
  {
   "cell_type": "markdown",
   "metadata": {},
   "source": [
    "## Generating Word Embedding"
   ]
  },
  {
   "cell_type": "code",
   "execution_count": 15,
   "metadata": {},
   "outputs": [],
   "source": [
    "# Allows words with similar meanings to have a similar representation\n",
    "embeddings_index = {} \n",
    "with open('glove.6B.50d.txt') as f: \n",
    "    for line in f: \n",
    "        values = line.split() \n",
    "        word = values[0] \n",
    "        coefs = np.asarray(values[1:], dtype='float32') \n",
    "        embeddings_index[word] = coefs \n",
    "  \n",
    "# Generating embeddings \n",
    "embeddings_matrix = np.zeros((vocab_size1+1, embedding_dim)) \n",
    "for word, i in word_index1.items(): \n",
    "    embedding_vector = embeddings_index.get(word) \n",
    "    if embedding_vector is not None: \n",
    "        embeddings_matrix[i] = embedding_vector "
   ]
  },
  {
   "cell_type": "markdown",
   "metadata": {},
   "source": [
    "## Model Architecture"
   ]
  },
  {
   "cell_type": "code",
   "execution_count": 16,
   "metadata": {},
   "outputs": [
    {
     "name": "stdout",
     "output_type": "stream",
     "text": [
      "Model: \"sequential\"\n",
      "_________________________________________________________________\n",
      " Layer (type)                Output Shape              Param #   \n",
      "=================================================================\n",
      " embedding (Embedding)       (None, 54, 50)            377600    \n",
      "                                                                 \n",
      " dropout (Dropout)           (None, 54, 50)            0         \n",
      "                                                                 \n",
      " conv1d (Conv1D)             (None, 50, 64)            16064     \n",
      "                                                                 \n",
      " max_pooling1d (MaxPooling1D  (None, 12, 64)           0         \n",
      " )                                                               \n",
      "                                                                 \n",
      " lstm (LSTM)                 (None, 64)                33024     \n",
      "                                                                 \n",
      " dense (Dense)               (None, 1)                 65        \n",
      "                                                                 \n",
      "=================================================================\n",
      "Total params: 426,753\n",
      "Trainable params: 49,153\n",
      "Non-trainable params: 377,600\n",
      "_________________________________________________________________\n"
     ]
    }
   ],
   "source": [
    "model = tf.keras.Sequential([ \n",
    "    tf.keras.layers.Embedding(vocab_size1+1, embedding_dim, \n",
    "                              input_length=max_length, weights=[ \n",
    "                                  embeddings_matrix], \n",
    "                              trainable=False), \n",
    "    tf.keras.layers.Dropout(0.2), \n",
    "    tf.keras.layers.Conv1D(64, 5, activation='relu'), \n",
    "    tf.keras.layers.MaxPooling1D(pool_size=4), \n",
    "    tf.keras.layers.LSTM(64), \n",
    "    tf.keras.layers.Dense(1, activation='sigmoid') \n",
    "]) \n",
    "model.compile(loss='binary_crossentropy', \n",
    "              optimizer='adam', metrics=['accuracy']) \n",
    "model.summary() "
   ]
  },
  {
   "cell_type": "code",
   "execution_count": 17,
   "metadata": {},
   "outputs": [
    {
     "name": "stdout",
     "output_type": "stream",
     "text": [
      "Train on 2700 samples, validate on 300 samples\n",
      "Epoch 1/50\n"
     ]
    },
    {
     "name": "stderr",
     "output_type": "stream",
     "text": [
      "c:\\Users\\Arjun\\miniconda3\\lib\\site-packages\\keras\\engine\\training_v1.py:2332: UserWarning: `Model.state_updates` will be removed in a future version. This property should not be used in TensorFlow 2.0, as `updates` are applied automatically.\n",
      "  updates = self.state_updates\n"
     ]
    },
    {
     "name": "stdout",
     "output_type": "stream",
     "text": [
      "2700/2700 - 12s - loss: 0.6479 - accuracy: 0.6167 - val_loss: 0.5787 - val_accuracy: 0.6900 - 12s/epoch - 4ms/sample\n",
      "Epoch 2/50\n",
      "2700/2700 - 8s - loss: 0.5802 - accuracy: 0.7000 - val_loss: 0.5351 - val_accuracy: 0.7100 - 8s/epoch - 3ms/sample\n",
      "Epoch 3/50\n",
      "2700/2700 - 13s - loss: 0.5436 - accuracy: 0.7230 - val_loss: 0.5248 - val_accuracy: 0.7300 - 13s/epoch - 5ms/sample\n",
      "Epoch 4/50\n",
      "2700/2700 - 9s - loss: 0.4939 - accuracy: 0.7626 - val_loss: 0.5249 - val_accuracy: 0.7367 - 9s/epoch - 3ms/sample\n",
      "Epoch 5/50\n",
      "2700/2700 - 8s - loss: 0.4492 - accuracy: 0.7985 - val_loss: 0.4793 - val_accuracy: 0.7767 - 8s/epoch - 3ms/sample\n",
      "Epoch 6/50\n",
      "2700/2700 - 8s - loss: 0.3921 - accuracy: 0.8270 - val_loss: 0.5207 - val_accuracy: 0.7300 - 8s/epoch - 3ms/sample\n",
      "Epoch 7/50\n",
      "2700/2700 - 9s - loss: 0.3597 - accuracy: 0.8496 - val_loss: 0.4959 - val_accuracy: 0.7233 - 9s/epoch - 3ms/sample\n",
      "Epoch 8/50\n",
      "2700/2700 - 8s - loss: 0.3243 - accuracy: 0.8589 - val_loss: 0.4955 - val_accuracy: 0.7467 - 8s/epoch - 3ms/sample\n",
      "Epoch 9/50\n",
      "2700/2700 - 8s - loss: 0.2700 - accuracy: 0.8911 - val_loss: 0.5500 - val_accuracy: 0.7333 - 8s/epoch - 3ms/sample\n",
      "Epoch 10/50\n",
      "2700/2700 - 9s - loss: 0.2707 - accuracy: 0.8848 - val_loss: 0.5002 - val_accuracy: 0.7433 - 9s/epoch - 3ms/sample\n",
      "Epoch 11/50\n",
      "2700/2700 - 9s - loss: 0.2565 - accuracy: 0.8933 - val_loss: 0.5286 - val_accuracy: 0.7500 - 9s/epoch - 3ms/sample\n",
      "Epoch 12/50\n",
      "2700/2700 - 7s - loss: 0.2094 - accuracy: 0.9096 - val_loss: 0.6079 - val_accuracy: 0.7167 - 7s/epoch - 3ms/sample\n",
      "Epoch 13/50\n",
      "2700/2700 - 8s - loss: 0.1905 - accuracy: 0.9230 - val_loss: 0.5769 - val_accuracy: 0.7300 - 8s/epoch - 3ms/sample\n",
      "Epoch 14/50\n",
      "2700/2700 - 8s - loss: 0.1840 - accuracy: 0.9230 - val_loss: 0.6476 - val_accuracy: 0.7300 - 8s/epoch - 3ms/sample\n",
      "Epoch 15/50\n",
      "2700/2700 - 9s - loss: 0.1578 - accuracy: 0.9356 - val_loss: 0.6119 - val_accuracy: 0.7433 - 9s/epoch - 3ms/sample\n",
      "Epoch 16/50\n",
      "2700/2700 - 8s - loss: 0.1545 - accuracy: 0.9363 - val_loss: 0.6468 - val_accuracy: 0.7500 - 8s/epoch - 3ms/sample\n",
      "Epoch 17/50\n",
      "2700/2700 - 8s - loss: 0.1495 - accuracy: 0.9370 - val_loss: 0.6029 - val_accuracy: 0.7433 - 8s/epoch - 3ms/sample\n",
      "Epoch 18/50\n",
      "2700/2700 - 6s - loss: 0.1516 - accuracy: 0.9374 - val_loss: 0.6633 - val_accuracy: 0.7567 - 6s/epoch - 2ms/sample\n",
      "Epoch 19/50\n",
      "2700/2700 - 8s - loss: 0.1489 - accuracy: 0.9404 - val_loss: 0.6460 - val_accuracy: 0.7567 - 8s/epoch - 3ms/sample\n",
      "Epoch 20/50\n",
      "2700/2700 - 7s - loss: 0.1291 - accuracy: 0.9481 - val_loss: 0.6526 - val_accuracy: 0.7300 - 7s/epoch - 3ms/sample\n",
      "Epoch 21/50\n",
      "2700/2700 - 7s - loss: 0.1343 - accuracy: 0.9478 - val_loss: 0.7513 - val_accuracy: 0.7300 - 7s/epoch - 3ms/sample\n",
      "Epoch 22/50\n",
      "2700/2700 - 7s - loss: 0.1151 - accuracy: 0.9556 - val_loss: 0.6862 - val_accuracy: 0.7533 - 7s/epoch - 3ms/sample\n",
      "Epoch 23/50\n",
      "2700/2700 - 7s - loss: 0.1200 - accuracy: 0.9530 - val_loss: 0.7555 - val_accuracy: 0.7367 - 7s/epoch - 3ms/sample\n",
      "Epoch 24/50\n",
      "2700/2700 - 7s - loss: 0.1175 - accuracy: 0.9552 - val_loss: 0.7945 - val_accuracy: 0.7367 - 7s/epoch - 3ms/sample\n",
      "Epoch 25/50\n",
      "2700/2700 - 7s - loss: 0.0949 - accuracy: 0.9630 - val_loss: 0.9132 - val_accuracy: 0.7067 - 7s/epoch - 3ms/sample\n",
      "Epoch 26/50\n",
      "2700/2700 - 7s - loss: 0.1193 - accuracy: 0.9574 - val_loss: 0.8909 - val_accuracy: 0.7200 - 7s/epoch - 3ms/sample\n",
      "Epoch 27/50\n",
      "2700/2700 - 7s - loss: 0.0955 - accuracy: 0.9622 - val_loss: 0.7968 - val_accuracy: 0.7400 - 7s/epoch - 2ms/sample\n",
      "Epoch 28/50\n",
      "2700/2700 - 7s - loss: 0.0981 - accuracy: 0.9637 - val_loss: 0.7020 - val_accuracy: 0.7333 - 7s/epoch - 3ms/sample\n",
      "Epoch 29/50\n",
      "2700/2700 - 8s - loss: 0.0846 - accuracy: 0.9678 - val_loss: 0.8242 - val_accuracy: 0.7233 - 8s/epoch - 3ms/sample\n",
      "Epoch 30/50\n",
      "2700/2700 - 8s - loss: 0.0970 - accuracy: 0.9604 - val_loss: 0.9124 - val_accuracy: 0.7367 - 8s/epoch - 3ms/sample\n",
      "Epoch 31/50\n",
      "2700/2700 - 7s - loss: 0.0812 - accuracy: 0.9674 - val_loss: 0.8395 - val_accuracy: 0.7333 - 7s/epoch - 3ms/sample\n",
      "Epoch 32/50\n",
      "2700/2700 - 7s - loss: 0.0760 - accuracy: 0.9715 - val_loss: 1.0682 - val_accuracy: 0.7333 - 7s/epoch - 3ms/sample\n",
      "Epoch 33/50\n",
      "2700/2700 - 7s - loss: 0.0788 - accuracy: 0.9726 - val_loss: 0.9029 - val_accuracy: 0.7200 - 7s/epoch - 3ms/sample\n",
      "Epoch 34/50\n",
      "2700/2700 - 7s - loss: 0.0746 - accuracy: 0.9707 - val_loss: 0.9060 - val_accuracy: 0.7333 - 7s/epoch - 3ms/sample\n",
      "Epoch 35/50\n",
      "2700/2700 - 7s - loss: 0.0814 - accuracy: 0.9704 - val_loss: 0.8314 - val_accuracy: 0.7567 - 7s/epoch - 3ms/sample\n",
      "Epoch 36/50\n",
      "2700/2700 - 7s - loss: 0.0841 - accuracy: 0.9707 - val_loss: 0.7931 - val_accuracy: 0.7433 - 7s/epoch - 2ms/sample\n",
      "Epoch 37/50\n",
      "2700/2700 - 6s - loss: 0.0781 - accuracy: 0.9711 - val_loss: 0.8175 - val_accuracy: 0.7400 - 6s/epoch - 2ms/sample\n",
      "Epoch 38/50\n",
      "2700/2700 - 7s - loss: 0.0570 - accuracy: 0.9819 - val_loss: 1.1714 - val_accuracy: 0.7233 - 7s/epoch - 2ms/sample\n",
      "Epoch 39/50\n",
      "2700/2700 - 8s - loss: 0.0834 - accuracy: 0.9711 - val_loss: 0.8843 - val_accuracy: 0.7333 - 8s/epoch - 3ms/sample\n",
      "Epoch 40/50\n",
      "2700/2700 - 7s - loss: 0.0702 - accuracy: 0.9744 - val_loss: 0.8532 - val_accuracy: 0.7333 - 7s/epoch - 3ms/sample\n",
      "Epoch 41/50\n",
      "2700/2700 - 3s - loss: 0.0719 - accuracy: 0.9763 - val_loss: 0.7863 - val_accuracy: 0.7467 - 3s/epoch - 1ms/sample\n",
      "Epoch 42/50\n",
      "2700/2700 - 1799s - loss: 0.0673 - accuracy: 0.9733 - val_loss: 0.9762 - val_accuracy: 0.7233 - 1799s/epoch - 666ms/sample\n",
      "Epoch 43/50\n",
      "2700/2700 - 3s - loss: 0.0693 - accuracy: 0.9733 - val_loss: 0.8631 - val_accuracy: 0.7467 - 3s/epoch - 1ms/sample\n",
      "Epoch 44/50\n",
      "2700/2700 - 4s - loss: 0.0624 - accuracy: 0.9741 - val_loss: 1.0180 - val_accuracy: 0.7200 - 4s/epoch - 1ms/sample\n",
      "Epoch 45/50\n",
      "2700/2700 - 2s - loss: 0.0582 - accuracy: 0.9800 - val_loss: 0.9653 - val_accuracy: 0.7300 - 2s/epoch - 744us/sample\n",
      "Epoch 46/50\n",
      "2700/2700 - 2s - loss: 0.0507 - accuracy: 0.9844 - val_loss: 1.0061 - val_accuracy: 0.7300 - 2s/epoch - 828us/sample\n",
      "Epoch 47/50\n",
      "2700/2700 - 2s - loss: 0.0529 - accuracy: 0.9793 - val_loss: 1.0782 - val_accuracy: 0.7100 - 2s/epoch - 827us/sample\n",
      "Epoch 48/50\n",
      "2700/2700 - 2s - loss: 0.0547 - accuracy: 0.9800 - val_loss: 1.0243 - val_accuracy: 0.7133 - 2s/epoch - 670us/sample\n",
      "Epoch 49/50\n",
      "2700/2700 - 2s - loss: 0.0751 - accuracy: 0.9730 - val_loss: 0.9766 - val_accuracy: 0.7200 - 2s/epoch - 827us/sample\n",
      "Epoch 50/50\n",
      "2700/2700 - 2s - loss: 0.0761 - accuracy: 0.9763 - val_loss: 1.0144 - val_accuracy: 0.7333 - 2s/epoch - 789us/sample\n"
     ]
    }
   ],
   "source": [
    "num_epochs = 50\n",
    "  \n",
    "training_padded = np.array(training_sequences1) \n",
    "training_labels = np.array(training_labels) \n",
    "testing_padded = np.array(test_sequences1) \n",
    "testing_labels = np.array(test_labels) \n",
    "  \n",
    "history = model.fit(training_padded, training_labels,  \n",
    "                    epochs=num_epochs, \n",
    "                    validation_data=(testing_padded, \n",
    "                                     testing_labels),  \n",
    "                    verbose=2) "
   ]
  },
  {
   "cell_type": "markdown",
   "metadata": {},
   "source": [
    "## Model Evaluation and Prediction"
   ]
  },
  {
   "cell_type": "code",
   "execution_count": 40,
   "metadata": {},
   "outputs": [
    {
     "name": "stdout",
     "output_type": "stream",
     "text": [
      "This news is TRUE\n"
     ]
    }
   ],
   "source": [
    "# text to check\n",
    "X = \"Ronald Reagan Dies\"\n",
    "  \n",
    "# detection \n",
    "sequences = tokenizer1.texts_to_sequences([X])[0] \n",
    "sequences = pad_sequences([sequences], maxlen=54, \n",
    "                          padding=padding_type,  \n",
    "                          truncating=trunc_type) \n",
    "if(model.predict(sequences, verbose=0)[0][0] >= 0.5): \n",
    "    print(\"This news is TRUE\") \n",
    "else: \n",
    "    print(\"This news is FALSE\") "
   ]
  }
 ],
 "metadata": {
  "kernelspec": {
   "display_name": "Python 3",
   "language": "python",
   "name": "python3"
  },
  "language_info": {
   "codemirror_mode": {
    "name": "ipython",
    "version": 3
   },
   "file_extension": ".py",
   "mimetype": "text/x-python",
   "name": "python",
   "nbconvert_exporter": "python",
   "pygments_lexer": "ipython3",
   "version": "3.10.8"
  },
  "orig_nbformat": 4
 },
 "nbformat": 4,
 "nbformat_minor": 2
}
